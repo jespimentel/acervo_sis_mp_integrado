{
  "nbformat": 4,
  "nbformat_minor": 0,
  "metadata": {
    "colab": {
      "name": "acervo_SISMP.ipynb",
      "provenance": [],
      "mount_file_id": "1trrc6kUBnkvfNgrdtdnNafHh44iQCpD2",
      "authorship_tag": "ABX9TyNZlco95kR2cUiA7q5jw6pN",
      "include_colab_link": true
    },
    "kernelspec": {
      "name": "python3",
      "display_name": "Python 3"
    },
    "language_info": {
      "name": "python"
    }
  },
  "cells": [
    {
      "cell_type": "markdown",
      "metadata": {
        "id": "view-in-github",
        "colab_type": "text"
      },
      "source": [
        "<a href=\"https://colab.research.google.com/github/jespimentel/acervo_sis_mp_integrado/blob/main/acervo_SISMP.ipynb\" target=\"_parent\"><img src=\"https://colab.research.google.com/assets/colab-badge.svg\" alt=\"Open In Colab\"/></a>"
      ]
    },
    {
      "cell_type": "code",
      "execution_count": 1,
      "metadata": {
        "id": "ccAhnr2nhuo2"
      },
      "outputs": [],
      "source": [
        "acervo_pdf = '/content/drive/MyDrive/Datasets/consulta_acervo_2022_06_05.pdf'"
      ]
    },
    {
      "cell_type": "code",
      "source": [
        "!pip install tabula-py\n",
        "import pandas as pd\n",
        "import tabula\n",
        "import matplotlib.pyplot as plt"
      ],
      "metadata": {
        "colab": {
          "base_uri": "https://localhost:8080/"
        },
        "id": "6G5gWAs3iACX",
        "outputId": "b1f691cb-a2d1-4173-d88e-8d23ca968c96"
      },
      "execution_count": 2,
      "outputs": [
        {
          "output_type": "stream",
          "name": "stdout",
          "text": [
            "Looking in indexes: https://pypi.org/simple, https://us-python.pkg.dev/colab-wheels/public/simple/\n",
            "Requirement already satisfied: tabula-py in /usr/local/lib/python3.7/dist-packages (2.4.0)\n",
            "Requirement already satisfied: pandas>=0.25.3 in /usr/local/lib/python3.7/dist-packages (from tabula-py) (1.3.5)\n",
            "Requirement already satisfied: distro in /usr/local/lib/python3.7/dist-packages (from tabula-py) (1.7.0)\n",
            "Requirement already satisfied: numpy in /usr/local/lib/python3.7/dist-packages (from tabula-py) (1.21.6)\n",
            "Requirement already satisfied: pytz>=2017.3 in /usr/local/lib/python3.7/dist-packages (from pandas>=0.25.3->tabula-py) (2022.1)\n",
            "Requirement already satisfied: python-dateutil>=2.7.3 in /usr/local/lib/python3.7/dist-packages (from pandas>=0.25.3->tabula-py) (2.8.2)\n",
            "Requirement already satisfied: six>=1.5 in /usr/local/lib/python3.7/dist-packages (from python-dateutil>=2.7.3->pandas>=0.25.3->tabula-py) (1.15.0)\n"
          ]
        }
      ]
    },
    {
      "cell_type": "code",
      "source": [
        "tabelas = tabula.read_pdf(acervo_pdf, pages='all')\n",
        "print (len(tabelas))"
      ],
      "metadata": {
        "colab": {
          "base_uri": "https://localhost:8080/"
        },
        "id": "Mvmkx1YciWFt",
        "outputId": "fe4ab4b6-9dfa-4acc-d25c-55897c102134"
      },
      "execution_count": 3,
      "outputs": [
        {
          "output_type": "stream",
          "name": "stderr",
          "text": [
            "Got stderr: Jun 05, 2022 2:38:04 PM org.apache.pdfbox.pdmodel.font.PDType1Font <init>\n",
            "WARNING: Using fallback font LiberationSans for base font Symbol\n",
            "Jun 05, 2022 2:38:04 PM org.apache.pdfbox.pdmodel.font.PDType1Font <init>\n",
            "WARNING: Using fallback font LiberationSans for base font ZapfDingbats\n",
            "\n"
          ]
        },
        {
          "output_type": "stream",
          "name": "stdout",
          "text": [
            "222\n"
          ]
        }
      ]
    },
    {
      "cell_type": "code",
      "source": [
        "lista_tabelas=[]\n",
        "for tabela in tabelas:\n",
        "  lista_tabelas.append(tabela)"
      ],
      "metadata": {
        "id": "NdSh_HMWleJE"
      },
      "execution_count": 4,
      "outputs": []
    },
    {
      "cell_type": "code",
      "source": [
        "colunas = ['Tipo','Num. MP', 'Num. TJ', 'UA', 'Cargo', 'Localização Atual','Última Movimentação', 'Unnamed']\n",
        "geral = pd.concat(lista_tabelas)\n",
        "geral.columns = colunas\n",
        "geral = geral[['Tipo','Num. MP', 'Num. TJ', 'Cargo', 'Localização Atual','Última Movimentação']]\n",
        "geral['Num. MP'] = geral['Num. MP'].str.replace('\\r', '')\n",
        "geral['Num. TJ'] = geral['Num. TJ'].str.replace('\\r', '')\n",
        "geral['Cargo'] = geral['Cargo'].str.replace('\\r', '')\n",
        "geral['Localização Atual'] = geral['Localização Atual'].str.replace('\\r', '')\n",
        "geral['Última Movimentação'] = geral['Última Movimentação'].str.replace('\\r', '')\n",
        "geral.reset_index(inplace=True, drop=True)\n",
        "geral = geral.dropna(subset=['Num. MP'])\n",
        "geral['Físico?'] = geral['Num. TJ'].str[:2] != '15'"
      ],
      "metadata": {
        "id": "adEoofD3jBxh"
      },
      "execution_count": 5,
      "outputs": []
    },
    {
      "cell_type": "code",
      "source": [
        "geral"
      ],
      "metadata": {
        "colab": {
          "base_uri": "https://localhost:8080/",
          "height": 641
        },
        "id": "sXA7Dml71A4Q",
        "outputId": "9b261b28-2cf5-4cee-d092-64320d3c9899"
      },
      "execution_count": 6,
      "outputs": [
        {
          "output_type": "execute_result",
          "data": {
            "text/plain": [
              "     Tipo                 Num. MP                    Num. TJ  \\\n",
              "0      IP  13.0001.0005671/2014-1  0044681-17.2014.8.26.0050   \n",
              "1      IP  13.0001.0006065/2020-9  1523687-78.2020.8.26.0050   \n",
              "2      IP  13.0001.0030095/2020-5  1531484-08.2020.8.26.0050   \n",
              "3      IP  13.0002.0002003/2021-1  1506283-77.2021.8.26.0050   \n",
              "4      IP  13.0002.0002646/2021-8  1513064-18.2021.8.26.0050   \n",
              "...   ...                     ...                        ...   \n",
              "4537   IP  13.0723.0030495/2020-2  1542390-18.2020.8.26.0451   \n",
              "4538   IP  13.0723.0030502/2020-4  1546058-94.2020.8.26.0451   \n",
              "4539   IP  13.0723.0030515/2020-1  1545419-76.2020.8.26.0451   \n",
              "4540   IP  13.0723.0030517/2020-1  1542591-10.2020.8.26.0451   \n",
              "4541   IP  13.0739.0003226/2015-1  0007177-98.2015.8.26.0451   \n",
              "\n",
              "                                    Cargo  \\\n",
              "0      7o PROMOTOR DEJUSTIÇA DEPIRACICABA   \n",
              "1     10o PROMOTOR DEJUSTIÇA DEPIRACICABA   \n",
              "2     17o PROMOTOR DEJUSTIÇA DEPIRACICABA   \n",
              "3      6o PROMOTOR DEJUSTIÇA DEPIRACICABA   \n",
              "4      6o PROMOTOR DEJUSTIÇA DEPIRACICABA   \n",
              "...                                   ...   \n",
              "4537  17o PROMOTOR DEJUSTIÇA DEPIRACICABA   \n",
              "4538   9o PROMOTOR DEJUSTIÇA DEPIRACICABA   \n",
              "4539  17o PROMOTOR DEJUSTIÇA DEPIRACICABA   \n",
              "4540  15o PROMOTOR DEJUSTIÇA DEPIRACICABA   \n",
              "4541   4o PROMOTOR DEJUSTIÇA DEPIRACICABA   \n",
              "\n",
              "                                  Localização Atual  Última Movimentação  \\\n",
              "0                           03A V CRIM DEPIRACICABA  MANIFESTAÇÃODIVERSA   \n",
              "1                                            DIPO 4  PRORROGAÇÃODE PRAZO   \n",
              "2                 Promotoria deJustiça dePiracicaba  MANIFESTAÇÃODIVERSA   \n",
              "3                                          DIPO 322  PRORROGAÇÃODE PRAZO   \n",
              "4                                            DIPO 4  MANIFESTAÇÃODIVERSA   \n",
              "...                                             ...                  ...   \n",
              "4537                        04A V CRIM DEPIRACICABA           DILIGÊNCIA   \n",
              "4538                        02A V CRIM DEPIRACICABA  PRORROGAÇÃODE PRAZO   \n",
              "4539            17o PROMOTORDE JUSTIÇA DEPIRACICABA  PRORROGAÇÃODE PRAZO   \n",
              "4540  V DO JÚRI E DEEXECUÇÕESCRIMINAIS DEPIRACICABA  PRORROGAÇÃODE PRAZO   \n",
              "4541                        03A V CRIM DEPIRACICABA  PRORROGAÇÃODE PRAZO   \n",
              "\n",
              "      Físico?  \n",
              "0        True  \n",
              "1       False  \n",
              "2       False  \n",
              "3       False  \n",
              "4       False  \n",
              "...       ...  \n",
              "4537    False  \n",
              "4538    False  \n",
              "4539    False  \n",
              "4540    False  \n",
              "4541     True  \n",
              "\n",
              "[4542 rows x 7 columns]"
            ],
            "text/html": [
              "\n",
              "  <div id=\"df-891e22da-58b3-49d3-a9f7-12f7065ccb82\">\n",
              "    <div class=\"colab-df-container\">\n",
              "      <div>\n",
              "<style scoped>\n",
              "    .dataframe tbody tr th:only-of-type {\n",
              "        vertical-align: middle;\n",
              "    }\n",
              "\n",
              "    .dataframe tbody tr th {\n",
              "        vertical-align: top;\n",
              "    }\n",
              "\n",
              "    .dataframe thead th {\n",
              "        text-align: right;\n",
              "    }\n",
              "</style>\n",
              "<table border=\"1\" class=\"dataframe\">\n",
              "  <thead>\n",
              "    <tr style=\"text-align: right;\">\n",
              "      <th></th>\n",
              "      <th>Tipo</th>\n",
              "      <th>Num. MP</th>\n",
              "      <th>Num. TJ</th>\n",
              "      <th>Cargo</th>\n",
              "      <th>Localização Atual</th>\n",
              "      <th>Última Movimentação</th>\n",
              "      <th>Físico?</th>\n",
              "    </tr>\n",
              "  </thead>\n",
              "  <tbody>\n",
              "    <tr>\n",
              "      <th>0</th>\n",
              "      <td>IP</td>\n",
              "      <td>13.0001.0005671/2014-1</td>\n",
              "      <td>0044681-17.2014.8.26.0050</td>\n",
              "      <td>7o PROMOTOR DEJUSTIÇA DEPIRACICABA</td>\n",
              "      <td>03A V CRIM DEPIRACICABA</td>\n",
              "      <td>MANIFESTAÇÃODIVERSA</td>\n",
              "      <td>True</td>\n",
              "    </tr>\n",
              "    <tr>\n",
              "      <th>1</th>\n",
              "      <td>IP</td>\n",
              "      <td>13.0001.0006065/2020-9</td>\n",
              "      <td>1523687-78.2020.8.26.0050</td>\n",
              "      <td>10o PROMOTOR DEJUSTIÇA DEPIRACICABA</td>\n",
              "      <td>DIPO 4</td>\n",
              "      <td>PRORROGAÇÃODE PRAZO</td>\n",
              "      <td>False</td>\n",
              "    </tr>\n",
              "    <tr>\n",
              "      <th>2</th>\n",
              "      <td>IP</td>\n",
              "      <td>13.0001.0030095/2020-5</td>\n",
              "      <td>1531484-08.2020.8.26.0050</td>\n",
              "      <td>17o PROMOTOR DEJUSTIÇA DEPIRACICABA</td>\n",
              "      <td>Promotoria deJustiça dePiracicaba</td>\n",
              "      <td>MANIFESTAÇÃODIVERSA</td>\n",
              "      <td>False</td>\n",
              "    </tr>\n",
              "    <tr>\n",
              "      <th>3</th>\n",
              "      <td>IP</td>\n",
              "      <td>13.0002.0002003/2021-1</td>\n",
              "      <td>1506283-77.2021.8.26.0050</td>\n",
              "      <td>6o PROMOTOR DEJUSTIÇA DEPIRACICABA</td>\n",
              "      <td>DIPO 322</td>\n",
              "      <td>PRORROGAÇÃODE PRAZO</td>\n",
              "      <td>False</td>\n",
              "    </tr>\n",
              "    <tr>\n",
              "      <th>4</th>\n",
              "      <td>IP</td>\n",
              "      <td>13.0002.0002646/2021-8</td>\n",
              "      <td>1513064-18.2021.8.26.0050</td>\n",
              "      <td>6o PROMOTOR DEJUSTIÇA DEPIRACICABA</td>\n",
              "      <td>DIPO 4</td>\n",
              "      <td>MANIFESTAÇÃODIVERSA</td>\n",
              "      <td>False</td>\n",
              "    </tr>\n",
              "    <tr>\n",
              "      <th>...</th>\n",
              "      <td>...</td>\n",
              "      <td>...</td>\n",
              "      <td>...</td>\n",
              "      <td>...</td>\n",
              "      <td>...</td>\n",
              "      <td>...</td>\n",
              "      <td>...</td>\n",
              "    </tr>\n",
              "    <tr>\n",
              "      <th>4537</th>\n",
              "      <td>IP</td>\n",
              "      <td>13.0723.0030495/2020-2</td>\n",
              "      <td>1542390-18.2020.8.26.0451</td>\n",
              "      <td>17o PROMOTOR DEJUSTIÇA DEPIRACICABA</td>\n",
              "      <td>04A V CRIM DEPIRACICABA</td>\n",
              "      <td>DILIGÊNCIA</td>\n",
              "      <td>False</td>\n",
              "    </tr>\n",
              "    <tr>\n",
              "      <th>4538</th>\n",
              "      <td>IP</td>\n",
              "      <td>13.0723.0030502/2020-4</td>\n",
              "      <td>1546058-94.2020.8.26.0451</td>\n",
              "      <td>9o PROMOTOR DEJUSTIÇA DEPIRACICABA</td>\n",
              "      <td>02A V CRIM DEPIRACICABA</td>\n",
              "      <td>PRORROGAÇÃODE PRAZO</td>\n",
              "      <td>False</td>\n",
              "    </tr>\n",
              "    <tr>\n",
              "      <th>4539</th>\n",
              "      <td>IP</td>\n",
              "      <td>13.0723.0030515/2020-1</td>\n",
              "      <td>1545419-76.2020.8.26.0451</td>\n",
              "      <td>17o PROMOTOR DEJUSTIÇA DEPIRACICABA</td>\n",
              "      <td>17o PROMOTORDE JUSTIÇA DEPIRACICABA</td>\n",
              "      <td>PRORROGAÇÃODE PRAZO</td>\n",
              "      <td>False</td>\n",
              "    </tr>\n",
              "    <tr>\n",
              "      <th>4540</th>\n",
              "      <td>IP</td>\n",
              "      <td>13.0723.0030517/2020-1</td>\n",
              "      <td>1542591-10.2020.8.26.0451</td>\n",
              "      <td>15o PROMOTOR DEJUSTIÇA DEPIRACICABA</td>\n",
              "      <td>V DO JÚRI E DEEXECUÇÕESCRIMINAIS DEPIRACICABA</td>\n",
              "      <td>PRORROGAÇÃODE PRAZO</td>\n",
              "      <td>False</td>\n",
              "    </tr>\n",
              "    <tr>\n",
              "      <th>4541</th>\n",
              "      <td>IP</td>\n",
              "      <td>13.0739.0003226/2015-1</td>\n",
              "      <td>0007177-98.2015.8.26.0451</td>\n",
              "      <td>4o PROMOTOR DEJUSTIÇA DEPIRACICABA</td>\n",
              "      <td>03A V CRIM DEPIRACICABA</td>\n",
              "      <td>PRORROGAÇÃODE PRAZO</td>\n",
              "      <td>True</td>\n",
              "    </tr>\n",
              "  </tbody>\n",
              "</table>\n",
              "<p>4542 rows × 7 columns</p>\n",
              "</div>\n",
              "      <button class=\"colab-df-convert\" onclick=\"convertToInteractive('df-891e22da-58b3-49d3-a9f7-12f7065ccb82')\"\n",
              "              title=\"Convert this dataframe to an interactive table.\"\n",
              "              style=\"display:none;\">\n",
              "        \n",
              "  <svg xmlns=\"http://www.w3.org/2000/svg\" height=\"24px\"viewBox=\"0 0 24 24\"\n",
              "       width=\"24px\">\n",
              "    <path d=\"M0 0h24v24H0V0z\" fill=\"none\"/>\n",
              "    <path d=\"M18.56 5.44l.94 2.06.94-2.06 2.06-.94-2.06-.94-.94-2.06-.94 2.06-2.06.94zm-11 1L8.5 8.5l.94-2.06 2.06-.94-2.06-.94L8.5 2.5l-.94 2.06-2.06.94zm10 10l.94 2.06.94-2.06 2.06-.94-2.06-.94-.94-2.06-.94 2.06-2.06.94z\"/><path d=\"M17.41 7.96l-1.37-1.37c-.4-.4-.92-.59-1.43-.59-.52 0-1.04.2-1.43.59L10.3 9.45l-7.72 7.72c-.78.78-.78 2.05 0 2.83L4 21.41c.39.39.9.59 1.41.59.51 0 1.02-.2 1.41-.59l7.78-7.78 2.81-2.81c.8-.78.8-2.07 0-2.86zM5.41 20L4 18.59l7.72-7.72 1.47 1.35L5.41 20z\"/>\n",
              "  </svg>\n",
              "      </button>\n",
              "      \n",
              "  <style>\n",
              "    .colab-df-container {\n",
              "      display:flex;\n",
              "      flex-wrap:wrap;\n",
              "      gap: 12px;\n",
              "    }\n",
              "\n",
              "    .colab-df-convert {\n",
              "      background-color: #E8F0FE;\n",
              "      border: none;\n",
              "      border-radius: 50%;\n",
              "      cursor: pointer;\n",
              "      display: none;\n",
              "      fill: #1967D2;\n",
              "      height: 32px;\n",
              "      padding: 0 0 0 0;\n",
              "      width: 32px;\n",
              "    }\n",
              "\n",
              "    .colab-df-convert:hover {\n",
              "      background-color: #E2EBFA;\n",
              "      box-shadow: 0px 1px 2px rgba(60, 64, 67, 0.3), 0px 1px 3px 1px rgba(60, 64, 67, 0.15);\n",
              "      fill: #174EA6;\n",
              "    }\n",
              "\n",
              "    [theme=dark] .colab-df-convert {\n",
              "      background-color: #3B4455;\n",
              "      fill: #D2E3FC;\n",
              "    }\n",
              "\n",
              "    [theme=dark] .colab-df-convert:hover {\n",
              "      background-color: #434B5C;\n",
              "      box-shadow: 0px 1px 3px 1px rgba(0, 0, 0, 0.15);\n",
              "      filter: drop-shadow(0px 1px 2px rgba(0, 0, 0, 0.3));\n",
              "      fill: #FFFFFF;\n",
              "    }\n",
              "  </style>\n",
              "\n",
              "      <script>\n",
              "        const buttonEl =\n",
              "          document.querySelector('#df-891e22da-58b3-49d3-a9f7-12f7065ccb82 button.colab-df-convert');\n",
              "        buttonEl.style.display =\n",
              "          google.colab.kernel.accessAllowed ? 'block' : 'none';\n",
              "\n",
              "        async function convertToInteractive(key) {\n",
              "          const element = document.querySelector('#df-891e22da-58b3-49d3-a9f7-12f7065ccb82');\n",
              "          const dataTable =\n",
              "            await google.colab.kernel.invokeFunction('convertToInteractive',\n",
              "                                                     [key], {});\n",
              "          if (!dataTable) return;\n",
              "\n",
              "          const docLinkHtml = 'Like what you see? Visit the ' +\n",
              "            '<a target=\"_blank\" href=https://colab.research.google.com/notebooks/data_table.ipynb>data table notebook</a>'\n",
              "            + ' to learn more about interactive tables.';\n",
              "          element.innerHTML = '';\n",
              "          dataTable['output_type'] = 'display_data';\n",
              "          await google.colab.output.renderOutput(dataTable, element);\n",
              "          const docLink = document.createElement('div');\n",
              "          docLink.innerHTML = docLinkHtml;\n",
              "          element.appendChild(docLink);\n",
              "        }\n",
              "      </script>\n",
              "    </div>\n",
              "  </div>\n",
              "  "
            ]
          },
          "metadata": {},
          "execution_count": 6
        }
      ]
    },
    {
      "cell_type": "code",
      "source": [
        "geral.to_excel('geral.xlsx')"
      ],
      "metadata": {
        "id": "c3SAeK2rm-Rq"
      },
      "execution_count": 7,
      "outputs": []
    },
    {
      "cell_type": "code",
      "source": [
        "acervo_geral_por_promotor = geral.groupby(['Cargo'])['Num. TJ'].count().sort_values(ascending=False)\n",
        "acervo_geral_por_promotor"
      ],
      "metadata": {
        "colab": {
          "base_uri": "https://localhost:8080/"
        },
        "id": "hX8DVR8_Nzwu",
        "outputId": "2231fa28-220c-4de8-cc7a-30c211f4e30d"
      },
      "execution_count": 8,
      "outputs": [
        {
          "output_type": "execute_result",
          "data": {
            "text/plain": [
              "Cargo\n",
              "7o PROMOTOR DEJUSTIÇA DEPIRACICABA             980\n",
              "10o PROMOTOR DEJUSTIÇA DEPIRACICABA            737\n",
              "17o PROMOTOR DEJUSTIÇA DEPIRACICABA            622\n",
              "4o PROMOTOR DEJUSTIÇA DEPIRACICABA             535\n",
              "6o PROMOTOR DEJUSTIÇA DEPIRACICABA             489\n",
              "11o PROMOTOR DEJUSTIÇA DEPIRACICABA            467\n",
              "9o PROMOTOR DEJUSTIÇA DEPIRACICABA             379\n",
              "1o PROMOTOR DEJUSTIÇA AUXILIARDE PIRACICABA     94\n",
              "15o PROMOTOR DEJUSTIÇA DEPIRACICABA             81\n",
              "2o PROMOTOR DEJUSTIÇA DEPIRACICABA              65\n",
              "1o PROMOTOR DEJUSTIÇA DEPIRACICABA              39\n",
              "13o PROMOTOR DEJUSTIÇA DEPIRACICABA             31\n",
              "14o PROMOTOR DEJUSTIÇA DEPIRACICABA              7\n",
              "16o PROMOTOR DEJUSTIÇA DEPIRACICABA              1\n",
              "2o PROMOTOR DEJUSTIÇA AUXILIARDE PIRACICABA      1\n",
              "8o PROMOTOR DEJUSTIÇA DEPIRACICABA               1\n",
              "Name: Num. TJ, dtype: int64"
            ]
          },
          "metadata": {},
          "execution_count": 8
        }
      ]
    },
    {
      "cell_type": "code",
      "source": [
        "acervo_geral_por_promotor.plot.bar(title = 'Acervo vivo de IPs (elo e físicos) por PJ - 05/06/2022', figsize=(10,6), color='orange')\n",
        "plt.savefig('IPs_acervo_vivo_por_PJ.jpg')\n",
        "plt.show()"
      ],
      "metadata": {
        "colab": {
          "base_uri": "https://localhost:8080/",
          "height": 649
        },
        "id": "TIrJCEg3OGin",
        "outputId": "73e3b9f3-4939-4805-b672-33b38cf90173"
      },
      "execution_count": 9,
      "outputs": [
        {
          "output_type": "display_data",
          "data": {
            "text/plain": [
              "<Figure size 720x432 with 1 Axes>"
            ],
            "image/png": "[encoded data removed]"
          },
          "metadata": {
            "needs_background": "light"
          }
        }
      ]
    },
    {
      "cell_type": "code",
      "source": [
        "fisicos = geral[geral['Físico?'] == True]\n",
        "fisicos"
      ],
      "metadata": {
        "colab": {
          "base_uri": "https://localhost:8080/",
          "height": 641
        },
        "id": "Bj-d_v75EBik",
        "outputId": "33f7e122-ebbe-4e56-a0d5-d17e88c6826f"
      },
      "execution_count": 10,
      "outputs": [
        {
          "output_type": "execute_result",
          "data": {
            "text/plain": [
              "     Tipo                 Num. MP                    Num. TJ  \\\n",
              "0      IP  13.0001.0005671/2014-1  0044681-17.2014.8.26.0050   \n",
              "5      IP  13.0002.0002729/2016-6  0064382-90.2016.8.26.0050   \n",
              "7      IP  13.0002.0004676/2014-1  0040277-20.2014.8.26.0050   \n",
              "8      IP  13.0002.0005719/2016-4  0047393-09.2016.8.26.0050   \n",
              "9      IP  13.0002.0007566/2017-5  0077583-18.2017.8.26.0050   \n",
              "...   ...                     ...                        ...   \n",
              "4483   IP  13.0723.0030122/2020-9                        NaN   \n",
              "4502   IP  13.0723.0030224/2020-6  0017923-83.2019.8.26.0451   \n",
              "4523   IP  13.0723.0030388/2020-4  0010520-29.2020.8.26.0451   \n",
              "4529   IP  13.0723.0030443/2020-5  0010438-95.2020.8.26.0451   \n",
              "4541   IP  13.0739.0003226/2015-1  0007177-98.2015.8.26.0451   \n",
              "\n",
              "                                            Cargo  \\\n",
              "0              7o PROMOTOR DEJUSTIÇA DEPIRACICABA   \n",
              "5              4o PROMOTOR DEJUSTIÇA DEPIRACICABA   \n",
              "7             11o PROMOTOR DEJUSTIÇA DEPIRACICABA   \n",
              "8              7o PROMOTOR DEJUSTIÇA DEPIRACICABA   \n",
              "9              7o PROMOTOR DEJUSTIÇA DEPIRACICABA   \n",
              "...                                           ...   \n",
              "4483  1o PROMOTOR DEJUSTIÇA AUXILIARDE PIRACICABA   \n",
              "4502          11o PROMOTOR DEJUSTIÇA DEPIRACICABA   \n",
              "4523           6o PROMOTOR DEJUSTIÇA DEPIRACICABA   \n",
              "4529          17o PROMOTOR DEJUSTIÇA DEPIRACICABA   \n",
              "4541           4o PROMOTOR DEJUSTIÇA DEPIRACICABA   \n",
              "\n",
              "                      Localização Atual            Última Movimentação  \\\n",
              "0               03A V CRIM DEPIRACICABA            MANIFESTAÇÃODIVERSA   \n",
              "5                                DIPO 3            PRORROGAÇÃODE PRAZO   \n",
              "7     Promotoria deJustiça dePiracicaba            MANIFESTAÇÃODIVERSA   \n",
              "8               03A V CRIM DEPIRACICABA            PRORROGAÇÃODE PRAZO   \n",
              "9               03A V CRIM DEPIRACICABA            PRORROGAÇÃODE PRAZO   \n",
              "...                                 ...                            ...   \n",
              "4483  Promotoria deJustiça dePiracicaba  NenhumaMovimentaçãoEncontrada   \n",
              "4502            01A V CRIM DEPIRACICABA            PRORROGAÇÃODE PRAZO   \n",
              "4523            01A V CRIM DEPIRACICABA            PRORROGAÇÃODE PRAZO   \n",
              "4529            04A V CRIM DEPIRACICABA    ACORDO DENÃOPERSECUÇÃOPENAL   \n",
              "4541            03A V CRIM DEPIRACICABA            PRORROGAÇÃODE PRAZO   \n",
              "\n",
              "      Físico?  \n",
              "0        True  \n",
              "5        True  \n",
              "7        True  \n",
              "8        True  \n",
              "9        True  \n",
              "...       ...  \n",
              "4483     True  \n",
              "4502     True  \n",
              "4523     True  \n",
              "4529     True  \n",
              "4541     True  \n",
              "\n",
              "[1657 rows x 7 columns]"
            ],
            "text/html": [
              "\n",
              "  <div id=\"df-3e21c182-c093-4b9a-a7c3-8c61ad198768\">\n",
              "    <div class=\"colab-df-container\">\n",
              "      <div>\n",
              "<style scoped>\n",
              "    .dataframe tbody tr th:only-of-type {\n",
              "        vertical-align: middle;\n",
              "    }\n",
              "\n",
              "    .dataframe tbody tr th {\n",
              "        vertical-align: top;\n",
              "    }\n",
              "\n",
              "    .dataframe thead th {\n",
              "        text-align: right;\n",
              "    }\n",
              "</style>\n",
              "<table border=\"1\" class=\"dataframe\">\n",
              "  <thead>\n",
              "    <tr style=\"text-align: right;\">\n",
              "      <th></th>\n",
              "      <th>Tipo</th>\n",
              "      <th>Num. MP</th>\n",
              "      <th>Num. TJ</th>\n",
              "      <th>Cargo</th>\n",
              "      <th>Localização Atual</th>\n",
              "      <th>Última Movimentação</th>\n",
              "      <th>Físico?</th>\n",
              "    </tr>\n",
              "  </thead>\n",
              "  <tbody>\n",
              "    <tr>\n",
              "      <th>0</th>\n",
              "      <td>IP</td>\n",
              "      <td>13.0001.0005671/2014-1</td>\n",
              "      <td>0044681-17.2014.8.26.0050</td>\n",
              "      <td>7o PROMOTOR DEJUSTIÇA DEPIRACICABA</td>\n",
              "      <td>03A V CRIM DEPIRACICABA</td>\n",
              "      <td>MANIFESTAÇÃODIVERSA</td>\n",
              "      <td>True</td>\n",
              "    </tr>\n",
              "    <tr>\n",
              "      <th>5</th>\n",
              "      <td>IP</td>\n",
              "      <td>13.0002.0002729/2016-6</td>\n",
              "      <td>0064382-90.2016.8.26.0050</td>\n",
              "      <td>4o PROMOTOR DEJUSTIÇA DEPIRACICABA</td>\n",
              "      <td>DIPO 3</td>\n",
              "      <td>PRORROGAÇÃODE PRAZO</td>\n",
              "      <td>True</td>\n",
              "    </tr>\n",
              "    <tr>\n",
              "      <th>7</th>\n",
              "      <td>IP</td>\n",
              "      <td>13.0002.0004676/2014-1</td>\n",
              "      <td>0040277-20.2014.8.26.0050</td>\n",
              "      <td>11o PROMOTOR DEJUSTIÇA DEPIRACICABA</td>\n",
              "      <td>Promotoria deJustiça dePiracicaba</td>\n",
              "      <td>MANIFESTAÇÃODIVERSA</td>\n",
              "      <td>True</td>\n",
              "    </tr>\n",
              "    <tr>\n",
              "      <th>8</th>\n",
              "      <td>IP</td>\n",
              "      <td>13.0002.0005719/2016-4</td>\n",
              "      <td>0047393-09.2016.8.26.0050</td>\n",
              "      <td>7o PROMOTOR DEJUSTIÇA DEPIRACICABA</td>\n",
              "      <td>03A V CRIM DEPIRACICABA</td>\n",
              "      <td>PRORROGAÇÃODE PRAZO</td>\n",
              "      <td>True</td>\n",
              "    </tr>\n",
              "    <tr>\n",
              "      <th>9</th>\n",
              "      <td>IP</td>\n",
              "      <td>13.0002.0007566/2017-5</td>\n",
              "      <td>0077583-18.2017.8.26.0050</td>\n",
              "      <td>7o PROMOTOR DEJUSTIÇA DEPIRACICABA</td>\n",
              "      <td>03A V CRIM DEPIRACICABA</td>\n",
              "      <td>PRORROGAÇÃODE PRAZO</td>\n",
              "      <td>True</td>\n",
              "    </tr>\n",
              "    <tr>\n",
              "      <th>...</th>\n",
              "      <td>...</td>\n",
              "      <td>...</td>\n",
              "      <td>...</td>\n",
              "      <td>...</td>\n",
              "      <td>...</td>\n",
              "      <td>...</td>\n",
              "      <td>...</td>\n",
              "    </tr>\n",
              "    <tr>\n",
              "      <th>4483</th>\n",
              "      <td>IP</td>\n",
              "      <td>13.0723.0030122/2020-9</td>\n",
              "      <td>NaN</td>\n",
              "      <td>1o PROMOTOR DEJUSTIÇA AUXILIARDE PIRACICABA</td>\n",
              "      <td>Promotoria deJustiça dePiracicaba</td>\n",
              "      <td>NenhumaMovimentaçãoEncontrada</td>\n",
              "      <td>True</td>\n",
              "    </tr>\n",
              "    <tr>\n",
              "      <th>4502</th>\n",
              "      <td>IP</td>\n",
              "      <td>13.0723.0030224/2020-6</td>\n",
              "      <td>0017923-83.2019.8.26.0451</td>\n",
              "      <td>11o PROMOTOR DEJUSTIÇA DEPIRACICABA</td>\n",
              "      <td>01A V CRIM DEPIRACICABA</td>\n",
              "      <td>PRORROGAÇÃODE PRAZO</td>\n",
              "      <td>True</td>\n",
              "    </tr>\n",
              "    <tr>\n",
              "      <th>4523</th>\n",
              "      <td>IP</td>\n",
              "      <td>13.0723.0030388/2020-4</td>\n",
              "      <td>0010520-29.2020.8.26.0451</td>\n",
              "      <td>6o PROMOTOR DEJUSTIÇA DEPIRACICABA</td>\n",
              "      <td>01A V CRIM DEPIRACICABA</td>\n",
              "      <td>PRORROGAÇÃODE PRAZO</td>\n",
              "      <td>True</td>\n",
              "    </tr>\n",
              "    <tr>\n",
              "      <th>4529</th>\n",
              "      <td>IP</td>\n",
              "      <td>13.0723.0030443/2020-5</td>\n",
              "      <td>0010438-95.2020.8.26.0451</td>\n",
              "      <td>17o PROMOTOR DEJUSTIÇA DEPIRACICABA</td>\n",
              "      <td>04A V CRIM DEPIRACICABA</td>\n",
              "      <td>ACORDO DENÃOPERSECUÇÃOPENAL</td>\n",
              "      <td>True</td>\n",
              "    </tr>\n",
              "    <tr>\n",
              "      <th>4541</th>\n",
              "      <td>IP</td>\n",
              "      <td>13.0739.0003226/2015-1</td>\n",
              "      <td>0007177-98.2015.8.26.0451</td>\n",
              "      <td>4o PROMOTOR DEJUSTIÇA DEPIRACICABA</td>\n",
              "      <td>03A V CRIM DEPIRACICABA</td>\n",
              "      <td>PRORROGAÇÃODE PRAZO</td>\n",
              "      <td>True</td>\n",
              "    </tr>\n",
              "  </tbody>\n",
              "</table>\n",
              "<p>1657 rows × 7 columns</p>\n",
              "</div>\n",
              "      <button class=\"colab-df-convert\" onclick=\"convertToInteractive('df-3e21c182-c093-4b9a-a7c3-8c61ad198768')\"\n",
              "              title=\"Convert this dataframe to an interactive table.\"\n",
              "              style=\"display:none;\">\n",
              "        \n",
              "  <svg xmlns=\"http://www.w3.org/2000/svg\" height=\"24px\"viewBox=\"0 0 24 24\"\n",
              "       width=\"24px\">\n",
              "    <path d=\"M0 0h24v24H0V0z\" fill=\"none\"/>\n",
              "    <path d=\"M18.56 5.44l.94 2.06.94-2.06 2.06-.94-2.06-.94-.94-2.06-.94 2.06-2.06.94zm-11 1L8.5 8.5l.94-2.06 2.06-.94-2.06-.94L8.5 2.5l-.94 2.06-2.06.94zm10 10l.94 2.06.94-2.06 2.06-.94-2.06-.94-.94-2.06-.94 2.06-2.06.94z\"/><path d=\"M17.41 7.96l-1.37-1.37c-.4-.4-.92-.59-1.43-.59-.52 0-1.04.2-1.43.59L10.3 9.45l-7.72 7.72c-.78.78-.78 2.05 0 2.83L4 21.41c.39.39.9.59 1.41.59.51 0 1.02-.2 1.41-.59l7.78-7.78 2.81-2.81c.8-.78.8-2.07 0-2.86zM5.41 20L4 18.59l7.72-7.72 1.47 1.35L5.41 20z\"/>\n",
              "  </svg>\n",
              "      </button>\n",
              "      \n",
              "  <style>\n",
              "    .colab-df-container {\n",
              "      display:flex;\n",
              "      flex-wrap:wrap;\n",
              "      gap: 12px;\n",
              "    }\n",
              "\n",
              "    .colab-df-convert {\n",
              "      background-color: #E8F0FE;\n",
              "      border: none;\n",
              "      border-radius: 50%;\n",
              "      cursor: pointer;\n",
              "      display: none;\n",
              "      fill: #1967D2;\n",
              "      height: 32px;\n",
              "      padding: 0 0 0 0;\n",
              "      width: 32px;\n",
              "    }\n",
              "\n",
              "    .colab-df-convert:hover {\n",
              "      background-color: #E2EBFA;\n",
              "      box-shadow: 0px 1px 2px rgba(60, 64, 67, 0.3), 0px 1px 3px 1px rgba(60, 64, 67, 0.15);\n",
              "      fill: #174EA6;\n",
              "    }\n",
              "\n",
              "    [theme=dark] .colab-df-convert {\n",
              "      background-color: #3B4455;\n",
              "      fill: #D2E3FC;\n",
              "    }\n",
              "\n",
              "    [theme=dark] .colab-df-convert:hover {\n",
              "      background-color: #434B5C;\n",
              "      box-shadow: 0px 1px 3px 1px rgba(0, 0, 0, 0.15);\n",
              "      filter: drop-shadow(0px 1px 2px rgba(0, 0, 0, 0.3));\n",
              "      fill: #FFFFFF;\n",
              "    }\n",
              "  </style>\n",
              "\n",
              "      <script>\n",
              "        const buttonEl =\n",
              "          document.querySelector('#df-3e21c182-c093-4b9a-a7c3-8c61ad198768 button.colab-df-convert');\n",
              "        buttonEl.style.display =\n",
              "          google.colab.kernel.accessAllowed ? 'block' : 'none';\n",
              "\n",
              "        async function convertToInteractive(key) {\n",
              "          const element = document.querySelector('#df-3e21c182-c093-4b9a-a7c3-8c61ad198768');\n",
              "          const dataTable =\n",
              "            await google.colab.kernel.invokeFunction('convertToInteractive',\n",
              "                                                     [key], {});\n",
              "          if (!dataTable) return;\n",
              "\n",
              "          const docLinkHtml = 'Like what you see? Visit the ' +\n",
              "            '<a target=\"_blank\" href=https://colab.research.google.com/notebooks/data_table.ipynb>data table notebook</a>'\n",
              "            + ' to learn more about interactive tables.';\n",
              "          element.innerHTML = '';\n",
              "          dataTable['output_type'] = 'display_data';\n",
              "          await google.colab.output.renderOutput(dataTable, element);\n",
              "          const docLink = document.createElement('div');\n",
              "          docLink.innerHTML = docLinkHtml;\n",
              "          element.appendChild(docLink);\n",
              "        }\n",
              "      </script>\n",
              "    </div>\n",
              "  </div>\n",
              "  "
            ]
          },
          "metadata": {},
          "execution_count": 10
        }
      ]
    },
    {
      "cell_type": "code",
      "source": [
        "geral[geral['Última Movimentação']=='ACORDO DENÃOPERSECUÇÃOPENAL'].groupby(['Cargo', 'Última Movimentação'])['Última Movimentação'].count().sort_values(ascending=False)"
      ],
      "metadata": {
        "colab": {
          "base_uri": "https://localhost:8080/"
        },
        "id": "gOiIcV_MEGk6",
        "outputId": "c6d03434-9a84-4c97-b5cd-b78e476763d4"
      },
      "execution_count": 11,
      "outputs": [
        {
          "output_type": "execute_result",
          "data": {
            "text/plain": [
              "Cargo                                        Última Movimentação        \n",
              "7o PROMOTOR DEJUSTIÇA DEPIRACICABA           ACORDO DENÃOPERSECUÇÃOPENAL    42\n",
              "4o PROMOTOR DEJUSTIÇA DEPIRACICABA           ACORDO DENÃOPERSECUÇÃOPENAL    39\n",
              "17o PROMOTOR DEJUSTIÇA DEPIRACICABA          ACORDO DENÃOPERSECUÇÃOPENAL    24\n",
              "9o PROMOTOR DEJUSTIÇA DEPIRACICABA           ACORDO DENÃOPERSECUÇÃOPENAL    16\n",
              "10o PROMOTOR DEJUSTIÇA DEPIRACICABA          ACORDO DENÃOPERSECUÇÃOPENAL    13\n",
              "11o PROMOTOR DEJUSTIÇA DEPIRACICABA          ACORDO DENÃOPERSECUÇÃOPENAL    11\n",
              "6o PROMOTOR DEJUSTIÇA DEPIRACICABA           ACORDO DENÃOPERSECUÇÃOPENAL     4\n",
              "1o PROMOTOR DEJUSTIÇA AUXILIARDE PIRACICABA  ACORDO DENÃOPERSECUÇÃOPENAL     1\n",
              "Name: Última Movimentação, dtype: int64"
            ]
          },
          "metadata": {},
          "execution_count": 11
        }
      ]
    },
    {
      "cell_type": "code",
      "source": [
        "acervo_fisico_por_promotor = fisicos.groupby(['Cargo'])['Num. TJ'].count().sort_values(ascending=False)\n",
        "acervo_fisico_por_promotor"
      ],
      "metadata": {
        "colab": {
          "base_uri": "https://localhost:8080/"
        },
        "id": "tqyuExIjFqRa",
        "outputId": "5ece23cd-ca8e-4dd2-c53d-4c395c314c07"
      },
      "execution_count": 12,
      "outputs": [
        {
          "output_type": "execute_result",
          "data": {
            "text/plain": [
              "Cargo\n",
              "7o PROMOTOR DEJUSTIÇA DEPIRACICABA             430\n",
              "10o PROMOTOR DEJUSTIÇA DEPIRACICABA            343\n",
              "4o PROMOTOR DEJUSTIÇA DEPIRACICABA             207\n",
              "6o PROMOTOR DEJUSTIÇA DEPIRACICABA             203\n",
              "11o PROMOTOR DEJUSTIÇA DEPIRACICABA            132\n",
              "17o PROMOTOR DEJUSTIÇA DEPIRACICABA            104\n",
              "9o PROMOTOR DEJUSTIÇA DEPIRACICABA              99\n",
              "1o PROMOTOR DEJUSTIÇA AUXILIARDE PIRACICABA     46\n",
              "1o PROMOTOR DEJUSTIÇA DEPIRACICABA              37\n",
              "15o PROMOTOR DEJUSTIÇA DEPIRACICABA             16\n",
              "13o PROMOTOR DEJUSTIÇA DEPIRACICABA             12\n",
              "2o PROMOTOR DEJUSTIÇA DEPIRACICABA               8\n",
              "14o PROMOTOR DEJUSTIÇA DEPIRACICABA              6\n",
              "8o PROMOTOR DEJUSTIÇA DEPIRACICABA               1\n",
              "Name: Num. TJ, dtype: int64"
            ]
          },
          "metadata": {},
          "execution_count": 12
        }
      ]
    },
    {
      "cell_type": "code",
      "source": [
        "acervo_fisico_por_promotor.plot.bar(title = 'Acervo vivo de IPs físicos por PJ - 05/06/2022', figsize=(10,6), color = 'red')\n",
        "plt.savefig('IPs_físicos_acervo_vivo_por_PJ.jpg')\n",
        "plt.show()"
      ],
      "metadata": {
        "colab": {
          "base_uri": "https://localhost:8080/",
          "height": 649
        },
        "id": "34qi8k_LH5IR",
        "outputId": "85ea733e-3f13-4a94-fc37-ac1e6b73e826"
      },
      "execution_count": 13,
      "outputs": [
        {
          "output_type": "display_data",
          "data": {
            "text/plain": [
              "<Figure size 720x432 with 1 Axes>"
            ],
            "image/png": "[encoded data removed]"
          },
          "metadata": {
            "needs_background": "light"
          }
        }
      ]
    }
  ]
}